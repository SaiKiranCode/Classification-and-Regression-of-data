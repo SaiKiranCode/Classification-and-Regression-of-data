{
 "cells": [
  {
   "cell_type": "code",
   "execution_count": 1,
   "metadata": {},
   "outputs": [],
   "source": [
    "#loading of libraries \n",
    "import numpy as np\n",
    "import matplotlib.pyplot as plt\n",
    "import pandas as pd"
   ]
  },
  {
   "cell_type": "code",
   "execution_count": 2,
   "metadata": {},
   "outputs": [],
   "source": [
    "# load data training data ,validation data,testing data\n",
    "X_1 = np.loadtxt('class1_train.txt')\n",
    "X_2 = np.loadtxt('class2_train.txt')\n",
    "X_3 = np.loadtxt('class3_train.txt')\n",
    "X_1_val = np.loadtxt('class1_val.txt')\n",
    "X_2_val = np.loadtxt('class2_val.txt')\n",
    "X_3_val = np.loadtxt('class3_val.txt')\n",
    "X_1_test = np.loadtxt('class1_test.txt')\n",
    "X_2_test = np.loadtxt('class2_test.txt')\n",
    "X_3_test = np.loadtxt('class3_test.txt')"
   ]
  },
  {
   "cell_type": "code",
   "execution_count": 3,
   "metadata": {},
   "outputs": [
    {
     "data": {
      "text/plain": [
       "Text(0, 0.5, 'X2')"
      ]
     },
     "execution_count": 3,
     "metadata": {},
     "output_type": "execute_result"
    },
    {
     "data": {
      "image/png": "[encoded data removed]",
      "text/plain": [
       "<Figure size 432x288 with 1 Axes>"
      ]
     },
     "metadata": {
      "needs_background": "light"
     },
     "output_type": "display_data"
    }
   ],
   "source": [
    "# simply visualising data and ploting of mean of training data for different classes\n",
    "C1plt = plt.scatter(X_1[:, 0], X_1[:, 1], color = 'cyan', s = 2)\n",
    "C2plt = plt.scatter(X_2[:, 0], X_2[:, 1], color = 'magenta', s = 2)\n",
    "C3plt = plt.scatter(X_3[:, 0], X_3[:, 1], color = 'yellow', s = 2)\n",
    "u_1 = np.mean(X_1,axis=0)\n",
    "u_2 = np.mean(X_2,axis=0)\n",
    "u_3 = np.mean(X_3,axis=0)\n",
    "C4plt=plt.scatter(u_1[0], u_1[1], color = 'red', s = 2)\n",
    "C5plt=plt.scatter(u_2[0], u_2[1], color = 'green', s = 2)\n",
    "C6plt=plt.scatter(u_3[0], u_3[1], color = 'blue', s = 2)\n",
    "plt.legend((C1plt, C2plt, C3plt, C4plt, C5plt, C6plt), ('Class 1', 'Class 2', 'Class 3','Mean 1','Mean 2','Mean 3'))\n",
    "plt.title('Training data')\n",
    "plt.xlabel('X1')\n",
    "plt.ylabel('X2')"
   ]
  },
  {
   "cell_type": "code",
   "execution_count": 4,
   "metadata": {},
   "outputs": [],
   "source": [
    "# find parameters\n",
    "u_1 = np.mean(X_1, axis = 0)\n",
    "u_2 = np.mean(X_2, axis = 0)\n",
    "u_3 = np.mean(X_3, axis = 0)\n",
    "s_1 = np.cov(X_1.T)\n",
    "s_2 = np.cov(X_2.T)\n",
    "s_3 = np.cov(X_3.T)\n",
    "s = (s_1+s_2+s_3)/3\n",
    "pc_1 = X_1.shape[0]/(X_1.shape[0]+X_2.shape[0]+X_3.shape[0])\n",
    "pc_2 = X_2.shape[0]/(X_1.shape[0]+X_2.shape[0]+X_3.shape[0])\n",
    "pc_3 = X_3.shape[0]/(X_1.shape[0]+X_2.shape[0]+X_3.shape[0])"
   ]
  },
  {
   "cell_type": "code",
   "execution_count": 5,
   "metadata": {},
   "outputs": [],
   "source": [
    "# define functions g1, g2, g3\n",
    "w11 = np.dot(np.linalg.pinv(s), u_1)\n",
    "w10 = -(1/2)*np.dot(np.dot(u_1.T, np.linalg.pinv(s)), u_1)+np.log(pc_1)\n",
    "\n",
    "w21 = np.dot(np.linalg.pinv(s), u_2)\n",
    "w20 = -(1/2)*np.dot(np.dot(u_2.T, np.linalg.pinv(s)), u_2)+np.log(pc_2)\n",
    "\n",
    "w31 = np.dot(np.linalg.pinv(s), u_3)\n",
    "w30 = -(1/2)*np.dot(np.dot(u_3.T, np.linalg.pinv(s)), u_3)+np.log(pc_3)\n",
    "    \n",
    "def g1(x):\n",
    "    return np.dot(w11.T, x)+w10\n",
    "def g2(x):\n",
    "    return np.dot(w21.T, x)+w20\n",
    "def g3(x):\n",
    "    return np.dot(w31.T, x)+w30"
   ]
  },
  {
   "cell_type": "code",
   "execution_count": 6,
   "metadata": {},
   "outputs": [],
   "source": [
    "# classifier\n",
    "def predict(x):\n",
    "    return np.argmax([g1(x), g2(x), g3(x)])"
   ]
  },
  {
   "cell_type": "code",
   "execution_count": 7,
   "metadata": {},
   "outputs": [
    {
     "data": {
      "text/html": [
       "<div>\n",
       "<style scoped>\n",
       "    .dataframe tbody tr th:only-of-type {\n",
       "        vertical-align: middle;\n",
       "    }\n",
       "\n",
       "    .dataframe tbody tr th {\n",
       "        vertical-align: top;\n",
       "    }\n",
       "\n",
       "    .dataframe thead th {\n",
       "        text-align: right;\n",
       "    }\n",
       "</style>\n",
       "<table border=\"1\" class=\"dataframe\">\n",
       "  <thead>\n",
       "    <tr style=\"text-align: right;\">\n",
       "      <th></th>\n",
       "      <th>True 1</th>\n",
       "      <th>True 2</th>\n",
       "      <th>True 3</th>\n",
       "    </tr>\n",
       "  </thead>\n",
       "  <tbody>\n",
       "    <tr>\n",
       "      <th>Predicted 1</th>\n",
       "      <td>0.0</td>\n",
       "      <td>0.0</td>\n",
       "      <td>0.0</td>\n",
       "    </tr>\n",
       "    <tr>\n",
       "      <th>Predicted 2</th>\n",
       "      <td>0.0</td>\n",
       "      <td>0.0</td>\n",
       "      <td>0.0</td>\n",
       "    </tr>\n",
       "    <tr>\n",
       "      <th>Predicted 3</th>\n",
       "      <td>60.0</td>\n",
       "      <td>120.0</td>\n",
       "      <td>160.0</td>\n",
       "    </tr>\n",
       "  </tbody>\n",
       "</table>\n",
       "</div>"
      ],
      "text/plain": [
       "             True 1  True 2  True 3\n",
       "Predicted 1     0.0     0.0     0.0\n",
       "Predicted 2     0.0     0.0     0.0\n",
       "Predicted 3    60.0   120.0   160.0"
      ]
     },
     "execution_count": 7,
     "metadata": {},
     "output_type": "execute_result"
    }
   ],
   "source": [
    "# confusion matrix\n",
    "# rows: predicted classes, columns: true classes\n",
    "ConfusionMatrix = np.zeros((3, 3))\n",
    "X = [X_1_test, X_2_test, X_3_test]\n",
    "for i in range(3):\n",
    "    for x in X[i]:\n",
    "        ConfusionMatrix[predict(x), i] = ConfusionMatrix[predict(x), i]+1\n",
    "pd.DataFrame(ConfusionMatrix, ['Predicted 1', 'Predicted 2', 'Predicted 3'],['True 1', 'True 2', 'True 3'])"
   ]
  },
  {
   "cell_type": "code",
   "execution_count": 8,
   "metadata": {},
   "outputs": [
    {
     "name": "stdout",
     "output_type": "stream",
     "text": [
      "{'Accuracy: ': [0.0, 0.0, 100.0], 'Mean Accuracy': 33.333333333333336}\n",
      "{'Precision: ': [nan, nan, 0.47058823529411764], 'Mean Precision': nan}\n",
      "{'Recall: ': [0.0, 0.0, 1.0], 'Mean Recall': 0.3333333333333333}\n",
      "{'F_measure: ': [nan, nan, 0.6399999999999999], 'Mean F_measure': nan}\n"
     ]
    },
    {
     "name": "stderr",
     "output_type": "stream",
     "text": [
      "<ipython-input-8-33dc63712e20>:8: RuntimeWarning: invalid value encountered in true_divide\n",
      "  Precision = TP/(TP+FP)\n"
     ]
    }
   ],
   "source": [
    "# performance measures  Accuracy ,Precision,Recall,F_measure,mean Accuracy,mean Precision,mean Recall,mean F_measure\n",
    "N = np.sum(ConfusionMatrix, axis = 0)\n",
    "TP = np.diagonal(ConfusionMatrix)\n",
    "TN = np.sum(TP)-TP\n",
    "FP = np.sum(ConfusionMatrix, axis = 1)-TP\n",
    "FN = np.sum(ConfusionMatrix, axis = 0)-TP\n",
    "Accuracy = 100*TP/N\n",
    "Precision = TP/(TP+FP)\n",
    "Recall = TP/(TP+FN)\n",
    "F_measure = 2*Precision*Recall/(Precision+Recall)\n",
    "print({\n",
    "    'Accuracy: ': Accuracy.tolist(),\n",
    "    'Mean Accuracy': np.mean(Accuracy)\n",
    "})\n",
    "print({\n",
    "    'Precision: ': Precision.tolist(),\n",
    "    'Mean Precision': np.mean(Precision)\n",
    "})\n",
    "print({\n",
    "    'Recall: ': Recall.tolist(),\n",
    "    'Mean Recall': np.mean(Recall)\n",
    "})\n",
    "print({\n",
    "    'F_measure: ': F_measure.tolist(),\n",
    "    'Mean F_measure': np.mean(F_measure)\n",
    "})"
   ]
  },
  {
   "cell_type": "code",
   "execution_count": 9,
   "metadata": {},
   "outputs": [
    {
     "ename": "IndexError",
     "evalue": "too many indices for array",
     "output_type": "error",
     "traceback": [
      "\u001b[1;31m---------------------------------------------------------------------------\u001b[0m",
      "\u001b[1;31mIndexError\u001b[0m                                Traceback (most recent call last)",
      "\u001b[1;32m<ipython-input-9-5e3535ed7977>\u001b[0m in \u001b[0;36m<module>\u001b[1;34m\u001b[0m\n\u001b[0;32m     29\u001b[0m         \u001b[0mx_1\u001b[0m \u001b[1;33m=\u001b[0m \u001b[0mnp\u001b[0m\u001b[1;33m.\u001b[0m\u001b[0marray\u001b[0m\u001b[1;33m(\u001b[0m\u001b[0mx_1\u001b[0m\u001b[1;33m)\u001b[0m\u001b[1;33m\u001b[0m\u001b[1;33m\u001b[0m\u001b[0m\n\u001b[0;32m     30\u001b[0m         \u001b[0mx_2\u001b[0m \u001b[1;33m=\u001b[0m \u001b[0mnp\u001b[0m\u001b[1;33m.\u001b[0m\u001b[0marray\u001b[0m\u001b[1;33m(\u001b[0m\u001b[0mx_2\u001b[0m\u001b[1;33m)\u001b[0m\u001b[1;33m\u001b[0m\u001b[1;33m\u001b[0m\u001b[0m\n\u001b[1;32m---> 31\u001b[1;33m         \u001b[0maxs\u001b[0m\u001b[1;33m[\u001b[0m\u001b[0mi\u001b[0m\u001b[1;33m]\u001b[0m\u001b[1;33m.\u001b[0m\u001b[0mscatter\u001b[0m\u001b[1;33m(\u001b[0m\u001b[0mx_1\u001b[0m\u001b[1;33m[\u001b[0m\u001b[1;33m:\u001b[0m\u001b[1;33m,\u001b[0m \u001b[1;36m0\u001b[0m\u001b[1;33m]\u001b[0m\u001b[1;33m,\u001b[0m \u001b[0mx_1\u001b[0m\u001b[1;33m[\u001b[0m\u001b[1;33m:\u001b[0m\u001b[1;33m,\u001b[0m \u001b[1;36m1\u001b[0m\u001b[1;33m]\u001b[0m\u001b[1;33m,\u001b[0m \u001b[0mcolor\u001b[0m \u001b[1;33m=\u001b[0m \u001b[0mbg\u001b[0m\u001b[1;33m[\u001b[0m\u001b[0mc1\u001b[0m\u001b[1;33m-\u001b[0m\u001b[1;36m1\u001b[0m\u001b[1;33m]\u001b[0m\u001b[1;33m,\u001b[0m \u001b[0ms\u001b[0m \u001b[1;33m=\u001b[0m \u001b[1;36m2\u001b[0m\u001b[1;33m)\u001b[0m\u001b[1;33m\u001b[0m\u001b[1;33m\u001b[0m\u001b[0m\n\u001b[0m\u001b[0;32m     32\u001b[0m         \u001b[0maxs\u001b[0m\u001b[1;33m[\u001b[0m\u001b[0mi\u001b[0m\u001b[1;33m]\u001b[0m\u001b[1;33m.\u001b[0m\u001b[0mscatter\u001b[0m\u001b[1;33m(\u001b[0m\u001b[0mx_2\u001b[0m\u001b[1;33m[\u001b[0m\u001b[1;33m:\u001b[0m\u001b[1;33m,\u001b[0m \u001b[1;36m0\u001b[0m\u001b[1;33m]\u001b[0m\u001b[1;33m,\u001b[0m \u001b[0mx_2\u001b[0m\u001b[1;33m[\u001b[0m\u001b[1;33m:\u001b[0m\u001b[1;33m,\u001b[0m \u001b[1;36m1\u001b[0m\u001b[1;33m]\u001b[0m\u001b[1;33m,\u001b[0m \u001b[0mcolor\u001b[0m \u001b[1;33m=\u001b[0m \u001b[0mbg\u001b[0m\u001b[1;33m[\u001b[0m\u001b[0mc2\u001b[0m\u001b[1;33m-\u001b[0m\u001b[1;36m1\u001b[0m\u001b[1;33m]\u001b[0m\u001b[1;33m,\u001b[0m \u001b[0ms\u001b[0m \u001b[1;33m=\u001b[0m \u001b[1;36m2\u001b[0m\u001b[1;33m)\u001b[0m\u001b[1;33m\u001b[0m\u001b[1;33m\u001b[0m\u001b[0m\n\u001b[0;32m     33\u001b[0m         \u001b[0mC1plt\u001b[0m \u001b[1;33m=\u001b[0m \u001b[0maxs\u001b[0m\u001b[1;33m[\u001b[0m\u001b[0mi\u001b[0m\u001b[1;33m]\u001b[0m\u001b[1;33m.\u001b[0m\u001b[0mscatter\u001b[0m\u001b[1;33m(\u001b[0m\u001b[0mX\u001b[0m\u001b[1;33m[\u001b[0m\u001b[0mc1\u001b[0m\u001b[1;33m-\u001b[0m\u001b[1;36m1\u001b[0m\u001b[1;33m]\u001b[0m\u001b[1;33m[\u001b[0m\u001b[1;33m:\u001b[0m\u001b[1;33m,\u001b[0m \u001b[1;36m0\u001b[0m\u001b[1;33m]\u001b[0m\u001b[1;33m,\u001b[0m \u001b[0mX\u001b[0m\u001b[1;33m[\u001b[0m\u001b[0mc1\u001b[0m\u001b[1;33m-\u001b[0m\u001b[1;36m1\u001b[0m\u001b[1;33m]\u001b[0m\u001b[1;33m[\u001b[0m\u001b[1;33m:\u001b[0m\u001b[1;33m,\u001b[0m \u001b[1;36m1\u001b[0m\u001b[1;33m]\u001b[0m\u001b[1;33m,\u001b[0m \u001b[0mcolor\u001b[0m \u001b[1;33m=\u001b[0m \u001b[0mfc\u001b[0m\u001b[1;33m[\u001b[0m\u001b[0mc1\u001b[0m\u001b[1;33m-\u001b[0m\u001b[1;36m1\u001b[0m\u001b[1;33m]\u001b[0m\u001b[1;33m,\u001b[0m \u001b[0ms\u001b[0m \u001b[1;33m=\u001b[0m \u001b[1;36m2\u001b[0m\u001b[1;33m)\u001b[0m\u001b[1;33m\u001b[0m\u001b[1;33m\u001b[0m\u001b[0m\n",
      "\u001b[1;31mIndexError\u001b[0m: too many indices for array"
     ]
    },
    {
     "data": {
      "image/png": "[encoded data removed]",
      "text/plain": [
       "<Figure size 360x1080 with 3 Axes>"
      ]
     },
     "metadata": {
      "needs_background": "light"
     },
     "output_type": "display_data"
    }
   ],
   "source": [
    "# decision region plot for every pair of classes with the respective training data superimposed\n",
    "Nclasses = 3\n",
    "Nfigures = (Nclasses)*(Nclasses-1)//2\n",
    "plt.rcParams['figure.figsize'] = [5, 5*Nfigures]\n",
    "fig, axs = plt.subplots(Nfigures, 1)\n",
    "\n",
    "x_min = min([min(X_1[:, 0]), min(X_2[:, 0]), min(X_3[:, 0])])\n",
    "y_min = min([min(X_1[:, 1]), min(X_2[:, 1]), min(X_3[:, 1])])\n",
    "x_max = max([max(X_1[:, 0]), max(X_2[:, 0]), max(X_3[:, 0])])\n",
    "y_max = max([max(X_1[:, 1]), max(X_2[:, 1]), max(X_3[:, 1])])\n",
    "\n",
    "g = [g1, g2, g3]\n",
    "bg = ['cyan', 'magenta', 'yellow']\n",
    "fc = ['blue', 'red', 'orange']\n",
    "X = [X_1, X_2, X_3]\n",
    "\n",
    "i = 0\n",
    "for c1 in range(1, Nclasses+1):\n",
    "    for c2 in range(c1+1, Nclasses+1):\n",
    "        x_1 = []\n",
    "        x_2 = []\n",
    "        for x in np.arange(x_min, x_max, 0.1):\n",
    "            for y in np.arange(y_min, y_max, 0.1):\n",
    "                c = np.argmax([g[c1-1]([x, y]), g[c2-1]([x, y])])\n",
    "                if c == 0:\n",
    "                    x_1.append([x, y])\n",
    "                elif c == 1:\n",
    "                    x_2.append([x, y])\n",
    "        x_1 = np.array(x_1)\n",
    "        x_2 = np.array(x_2)\n",
    "        axs[i].scatter(x_1[:, 0], x_1[:, 1], color = bg[c1-1], s = 2)\n",
    "        axs[i].scatter(x_2[:, 0], x_2[:, 1], color = bg[c2-1], s = 2)\n",
    "        C1plt = axs[i].scatter(X[c1-1][:, 0], X[c1-1][:, 1], color = fc[c1-1], s = 2)\n",
    "        C2plt = axs[i].scatter(X[c2-1][:, 0], X[c2-1][:, 1], color = fc[c2-1], s = 2)\n",
    "        axs[i].set_title('Class '+str(c1)+' vs Class '+str(c2))\n",
    "        axs[i].set_xlabel('X1')\n",
    "        axs[i].set_ylabel('X2')\n",
    "        axs[i].legend((C1plt, C2plt), ('Class '+str(c1), 'Class '+str(c2)))\n",
    "        i = i+1"
   ]
  },
  {
   "cell_type": "code",
   "execution_count": null,
   "metadata": {},
   "outputs": [],
   "source": [
    "# Decision region plot for all the classes together with the training data superposed\n",
    "x_min = min([min(X_1[:, 0]), min(X_2[:, 0]), min(X_3[:, 0])])\n",
    "y_min = min([min(X_1[:, 1]), min(X_2[:, 1]), min(X_3[:, 1])])\n",
    "x_max = max([max(X_1[:, 0]), max(X_2[:, 0]), max(X_3[:, 0])])\n",
    "y_max = max([max(X_1[:, 1]), max(X_2[:, 1]), max(X_3[:, 1])])\n",
    "x_1 = []\n",
    "x_2 = []\n",
    "x_3 = []\n",
    "for x in np.arange(x_min, x_max, 0.01):\n",
    "    for y in np.arange(y_min, y_max, 0.01):\n",
    "        c = predict([x, y])\n",
    "        if c == 0:\n",
    "            x_1.append([x, y])\n",
    "        elif c == 1:\n",
    "            x_2.append([x, y])\n",
    "x_1 = np.array(x_1)\n",
    "x_2 = np.array(x_2)\n",
    "x_3 = np.array(x_3)\n",
    "plt.scatter(x_1[:, 0], x_1[:, 1], color = 'cyan', s = 2)\n",
    "plt.scatter(x_2[:, 0], x_2[:, 1], color = 'magenta', s = 2)\n",
    "plt.scatter(x_3[:, 0], x_3[:, 1], color = 'yellow', s = 2)\n",
    "C1plt = plt.scatter(X_1[:, 0], X_1[:, 1], color = 'blue', s = 2)\n",
    "C2plt = plt.scatter(X_2[:, 0], X_2[:, 1], color = 'red', s = 2)\n",
    "C3plt = plt.scatter(X_3[:, 0], X_3[:, 1], color = 'green', s = 2)\n",
    "plt.title('Decision regions')\n",
    "plt.xlabel('X1')\n",
    "plt.ylabel('X2')\n",
    "plt.legend((C1plt, C2plt, C3plt), ('Class 1', 'Class 2', 'Class 3'))"
   ]
  },
  {
   "cell_type": "code",
   "execution_count": null,
   "metadata": {},
   "outputs": [],
   "source": [
    "# Decision region plot for all the classes together with the testing data superposed\n",
    "\n",
    "x_min = min([min(X_1_test[:, 0]), min(X_2_test[:, 0]), min(X_3_test[:, 0])])\n",
    "y_min = min([min(X_1_test[:, 1]), min(X_2_test[:, 1]), min(X_3_test[:, 1])])\n",
    "x_max = max([max(X_1_test[:, 0]), max(X_2_test[:, 0]), max(X_3_test[:, 0])])\n",
    "y_max = max([max(X_1_test[:, 1]), max(X_2_test[:, 1]), max(X_3_test[:, 1])])\n",
    "x_1 = []\n",
    "x_2 = []\n",
    "x_3 = []\n",
    "for x in np.arange(x_min, x_max, 0.01):\n",
    "    for y in np.arange(y_min, y_max, 0.01):\n",
    "        c = predict([x, y])\n",
    "        if c == 0:\n",
    "            x_1.append([x, y])\n",
    "        elif c == 1:\n",
    "            x_2.append([x, y])\n",
    "        else:\n",
    "            x_3.append([x, y])\n",
    "x_1 = np.array(x_1)\n",
    "x_2 = np.array(x_2)\n",
    "x_3 = np.array(x_3)\n",
    "plt.scatter(x_1[:, 0], x_1[:, 1], color = 'cyan', s = 2)\n",
    "plt.scatter(x_2[:, 0], x_2[:, 1], color = 'magenta', s = 2)\n",
    "plt.scatter(x_3[:, 0], x_3[:, 1], color = 'yellow', s = 2)\n",
    "C1plt = plt.scatter(X_1_test[:, 0], X_1_test[:, 1], color = 'blue', s = 2)\n",
    "C2plt = plt.scatter(X_2_test[:, 0], X_2_test[:, 1], color = 'red', s = 2)\n",
    "C3plt = plt.scatter(X_3_test[:, 0], X_3_test[:, 1], color = 'green', s = 2)\n",
    "plt.title('Decision regions')\n",
    "plt.xlabel('X1')\n",
    "plt.ylabel('X2')\n",
    "plt.legend((C1plt, C2plt, C3plt), ('Class 1', 'Class 2', 'Class 3'))"
   ]
  },
  {
   "cell_type": "code",
   "execution_count": null,
   "metadata": {},
   "outputs": [],
   "source": []
  }
 ],
 "metadata": {
  "kernelspec": {
   "display_name": "Python 3",
   "language": "python",
   "name": "python3"
  },
  "language_info": {
   "codemirror_mode": {
    "name": "ipython",
    "version": 3
   },
   "file_extension": ".py",
   "mimetype": "text/x-python",
   "name": "python",
   "nbconvert_exporter": "python",
   "pygments_lexer": "ipython3",
   "version": "3.7.6"
  }
 },
 "nbformat": 4,
 "nbformat_minor": 2
}
